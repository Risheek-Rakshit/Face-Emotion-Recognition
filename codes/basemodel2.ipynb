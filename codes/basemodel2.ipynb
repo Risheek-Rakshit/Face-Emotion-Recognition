{
  "nbformat": 4,
  "nbformat_minor": 0,
  "metadata": {
    "colab": {
      "name": "basemodel2.ipynb",
      "provenance": [],
      "collapsed_sections": []
    },
    "kernelspec": {
      "name": "python3",
      "display_name": "Python 3"
    },
    "language_info": {
      "name": "python"
    },
    "accelerator": "GPU"
  },
  "cells": [
    {
      "cell_type": "code",
      "metadata": {
        "colab": {
          "base_uri": "https://localhost:8080/"
        },
        "id": "NZinz9sd0r2V",
        "outputId": "b1c48215-3f55-4d6c-b547-e984910ce766"
      },
      "source": [
        "from google.colab import drive\n",
        "drive.mount('/content/drive/')"
      ],
      "execution_count": 1,
      "outputs": [
        {
          "output_type": "stream",
          "text": [
            "Mounted at /content/drive/\n"
          ],
          "name": "stdout"
        }
      ]
    },
    {
      "cell_type": "code",
      "metadata": {
        "colab": {
          "base_uri": "https://localhost:8080/"
        },
        "id": "kwxj4E-i0_QH",
        "outputId": "c58bf407-f0cc-4fca-f678-c68dd6d6d63f"
      },
      "source": [
        "%tensorflow_version 1.4"
      ],
      "execution_count": 2,
      "outputs": [
        {
          "output_type": "stream",
          "text": [
            "`%tensorflow_version` only switches the major version: 1.x or 2.x.\n",
            "You set: `1.4`. This will be interpreted as: `1.x`.\n",
            "\n",
            "\n",
            "TensorFlow 1.x selected.\n"
          ],
          "name": "stdout"
        }
      ]
    },
    {
      "cell_type": "code",
      "metadata": {
        "colab": {
          "base_uri": "https://localhost:8080/"
        },
        "id": "F59hQiCP0_Rm",
        "outputId": "2b4828ab-8c19-4c2d-9ba7-afb401444330"
      },
      "source": [
        "import matplotlib.pyplot as plt\n",
        "import pandas as pd\n",
        "import numpy as np\n",
        "\n",
        "import tensorflow as tf\n",
        "from tensorflow.python.lib.io import file_io\n",
        "\n",
        "import keras\n",
        "from keras.preprocessing.image import ImageDataGenerator\n",
        "\n",
        "from keras.models import Sequential\n",
        "from keras.layers import Dense, Dropout, Flatten\n",
        "from keras.layers import Activation,Conv2D, MaxPooling2D, BatchNormalization\n",
        "from keras.optimizers import SGD\n",
        "from keras.callbacks import ReduceLROnPlateau\n",
        "from keras.callbacks import ModelCheckpoint, EarlyStopping, CSVLogger\n",
        "\n",
        "from sklearn.metrics import confusion_matrix\n",
        "from seaborn import heatmap\n",
        "\n",
        "%matplotlib inline"
      ],
      "execution_count": 3,
      "outputs": [
        {
          "output_type": "stream",
          "text": [
            "Using TensorFlow backend.\n"
          ],
          "name": "stderr"
        }
      ]
    },
    {
      "cell_type": "code",
      "metadata": {
        "id": "hrZqc4Oc0_VO"
      },
      "source": [
        "EPOCHS = 150\n",
        "BS = 128\n",
        "DROPOUT_RATE = 0.4\n",
        "SGD_LEARNING_RATE = 0.01\n",
        "SGD_DECAY = 0.0001"
      ],
      "execution_count": 4,
      "outputs": []
    },
    {
      "cell_type": "code",
      "metadata": {
        "colab": {
          "base_uri": "https://localhost:8080/"
        },
        "id": "FCrJDN_l0_W1",
        "outputId": "bd2fcff4-5db3-45bd-b075-4ffbbd6ad9d8"
      },
      "source": [
        "model = Sequential()\n",
        "model.add(BatchNormalization(input_shape=(48,48,1)))\n",
        "model.add(Conv2D(32, (3, 3), activation='relu',padding='same', input_shape=(48,48,1),name=\"conv1\"))\n",
        "model.add(BatchNormalization())\n",
        "#model.add(MaxPooling2D(pool_size=(2, 2),name=\"maxpool1\"))\n",
        "model.add(Dropout(0.2))\n",
        "model.add(Conv2D(32, (3, 3), activation='relu',padding='same',name=\"conv2\"))\n",
        "model.add(BatchNormalization())\n",
        "model.add(MaxPooling2D(pool_size=(2, 2),name=\"maxpool2\"))         \n",
        "model.add(Dropout(0.2))\n",
        "model.add(Conv2D(64, (3, 3), activation='relu',padding='same',name=\"conv3\"))\n",
        "model.add(BatchNormalization())\n",
        "model.add(MaxPooling2D(pool_size=(2, 2),name=\"maxpool3\"))\n",
        "model.add(Dropout(0.2))\n",
        "model.add(Conv2D(64, (3, 3), activation='relu',padding='same',name=\"conv4\"))\n",
        "model.add(BatchNormalization())\n",
        "model.add(MaxPooling2D(pool_size=(2, 2),name=\"maxpool4\"))\n",
        "model.add(Dropout(0.2))\n",
        "model.add(Flatten())\n",
        "model.add(Dense(1024, activation='relu',name='fc1'))\n",
        "model.add(Dropout(DROPOUT_RATE))\n",
        "model.add(BatchNormalization())\n",
        "model.add(Dense(7, activation='softmax',name='fcsoftmax'))\n",
        "\n",
        "#TODO: weight decay of 0.0001...initial learning rate is set to 0.01 and reduced by a factor of 2 at every 25 epoch\n",
        "sgd = SGD(lr=SGD_LEARNING_RATE,momentum=0.9, decay=SGD_DECAY, nesterov=True)\n",
        "model.compile(loss='categorical_crossentropy',optimizer=sgd,metrics=['accuracy'])"
      ],
      "execution_count": 5,
      "outputs": [
        {
          "output_type": "stream",
          "text": [
            "WARNING:tensorflow:From /tensorflow-1.15.2/python3.7/tensorflow_core/python/ops/resource_variable_ops.py:1630: calling BaseResourceVariable.__init__ (from tensorflow.python.ops.resource_variable_ops) with constraint is deprecated and will be removed in a future version.\n",
            "Instructions for updating:\n",
            "If using Keras pass *_constraint arguments to layers.\n",
            "WARNING:tensorflow:From /tensorflow-1.15.2/python3.7/keras/backend/tensorflow_backend.py:4070: The name tf.nn.max_pool is deprecated. Please use tf.nn.max_pool2d instead.\n",
            "\n"
          ],
          "name": "stdout"
        }
      ]
    },
    {
      "cell_type": "code",
      "metadata": {
        "id": "jwyKS1nX0_Z3"
      },
      "source": [
        "cp_filepath='/content/drive/MyDrive/Colab Notebooks/models/Baseline-weights-best.hdf5'\n",
        "rlrop = keras.callbacks.ReduceLROnPlateau(monitor='val_accuracy',mode='max',factor=0.5, patience=10, min_lr=0.00001, verbose=1)\n",
        "checkpoint = ModelCheckpoint(cp_filepath, monitor='val_accuracy', verbose=1, save_best_only=True, mode='max')\n",
        "callbacks_list = [rlrop,checkpoint]"
      ],
      "execution_count": 6,
      "outputs": []
    },
    {
      "cell_type": "code",
      "metadata": {
        "id": "w_2ADoTm0_be"
      },
      "source": [
        "! rm -rf train; mkdir train\n",
        "! unzip -q '/content/drive/My Drive/Colab Notebooks/dataset/train.zip' -d train"
      ],
      "execution_count": 7,
      "outputs": []
    },
    {
      "cell_type": "code",
      "metadata": {
        "id": "NbLFMCE_0_eu"
      },
      "source": [
        "! rm -rf dev; mkdir dev\n",
        "! unzip -q '/content/drive/My Drive/Colab Notebooks/dataset/test-public.zip' -d dev\n",
        "! rm -rf test; mkdir test\n",
        "! unzip -q '/content/drive/My Drive/Colab Notebooks/dataset/test-private.zip' -d test"
      ],
      "execution_count": 8,
      "outputs": []
    },
    {
      "cell_type": "code",
      "metadata": {
        "colab": {
          "base_uri": "https://localhost:8080/"
        },
        "id": "_e8F1K4z0_gS",
        "outputId": "f8b996b4-4a70-4e9e-fed2-fc6d5c9775c7"
      },
      "source": [
        "%%bash\n",
        "root='/content/train/'\n",
        "IFS=$(echo -en \"\\n\\b\")\n",
        "(for dir in $(ls -1 \"$root\")\n",
        "    do printf \"$dir: \" && ls -i \"$root$dir\" | wc -l\n",
        " done)"
      ],
      "execution_count": 9,
      "outputs": [
        {
          "output_type": "stream",
          "text": [
            "0 angry: 3995\n",
            "1 disgust: 436\n",
            "2 fear: 4097\n",
            "3 happy: 7215\n",
            "4 sad: 4830\n",
            "5 surprise: 3171\n",
            "6 neutral: 4965\n"
          ],
          "name": "stdout"
        }
      ]
    },
    {
      "cell_type": "code",
      "metadata": {
        "id": "cfL5yP650_js"
      },
      "source": [
        "from tensorflow.keras.preprocessing.image import ImageDataGenerator\n",
        "\n",
        "def get_datagen(dataset, aug=False):\n",
        "    if aug:\n",
        "        datagen = ImageDataGenerator(\n",
        "                            rescale=1./255,\n",
        "                            featurewise_center=False,\n",
        "                            featurewise_std_normalization=False,\n",
        "                            rotation_range=10,\n",
        "                            width_shift_range=0.1,\n",
        "                            height_shift_range=0.1,\n",
        "                            zoom_range=0.1,\n",
        "                            horizontal_flip=True)\n",
        "    else:\n",
        "        datagen = ImageDataGenerator(rescale=1./255)\n",
        "\n",
        "    return datagen.flow_from_directory(\n",
        "            dataset,\n",
        "            target_size=(48, 48),\n",
        "            color_mode='grayscale',\n",
        "            shuffle = True,\n",
        "            class_mode='categorical',\n",
        "            batch_size=BS)"
      ],
      "execution_count": 10,
      "outputs": []
    },
    {
      "cell_type": "code",
      "metadata": {
        "colab": {
          "base_uri": "https://localhost:8080/"
        },
        "id": "ULRNbhnn0_lX",
        "outputId": "18486cfe-da40-4897-8a0f-62818519916f"
      },
      "source": [
        "train_generator  = get_datagen('/content/train', True)\n",
        "dev_generator    = get_datagen('/content/dev')\n",
        "test_generator  = get_datagen('/content/test')"
      ],
      "execution_count": 11,
      "outputs": [
        {
          "output_type": "stream",
          "text": [
            "Found 28709 images belonging to 7 classes.\n",
            "Found 3589 images belonging to 7 classes.\n",
            "Found 3589 images belonging to 7 classes.\n"
          ],
          "name": "stdout"
        }
      ]
    },
    {
      "cell_type": "code",
      "metadata": {
        "colab": {
          "base_uri": "https://localhost:8080/"
        },
        "id": "VQ9xRTvi0_pf",
        "outputId": "36811bcf-78f5-4e7d-b177-decdfd46b7da"
      },
      "source": [
        "history = model.fit_generator(\n",
        "    generator = train_generator,\n",
        "    validation_data=dev_generator, \n",
        "    #steps_per_epoch=28709// BS,\n",
        "    #validation_steps=3509 // BS,\n",
        "    shuffle=True,\n",
        "    epochs=EPOCHS,\n",
        "    callbacks=callbacks_list,\n",
        "#    callbacks=[rlrop],\n",
        "    use_multiprocessing=False,\n",
        ")"
      ],
      "execution_count": 12,
      "outputs": [
        {
          "output_type": "stream",
          "text": [
            "WARNING:tensorflow:From /tensorflow-1.15.2/python3.7/keras/backend/tensorflow_backend.py:422: The name tf.global_variables is deprecated. Please use tf.compat.v1.global_variables instead.\n",
            "\n",
            "Epoch 1/150\n",
            "225/225 [==============================] - 28s 123ms/step - loss: 2.0042 - accuracy: 0.2554 - val_loss: 2.3319 - val_accuracy: 0.1819\n",
            "\n",
            "Epoch 00001: val_accuracy improved from -inf to 0.18194, saving model to /content/drive/MyDrive/Colab Notebooks/models/Baseline-weights-best.hdf5\n",
            "Epoch 2/150\n",
            "225/225 [==============================] - 19s 86ms/step - loss: 1.7991 - accuracy: 0.3034 - val_loss: 1.6757 - val_accuracy: 0.3644\n",
            "\n",
            "Epoch 00002: val_accuracy improved from 0.18194 to 0.36445, saving model to /content/drive/MyDrive/Colab Notebooks/models/Baseline-weights-best.hdf5\n",
            "Epoch 3/150\n",
            "225/225 [==============================] - 20s 89ms/step - loss: 1.7176 - accuracy: 0.3397 - val_loss: 1.1674 - val_accuracy: 0.4202\n",
            "\n",
            "Epoch 00003: val_accuracy improved from 0.36445 to 0.42017, saving model to /content/drive/MyDrive/Colab Notebooks/models/Baseline-weights-best.hdf5\n",
            "Epoch 4/150\n",
            "225/225 [==============================] - 20s 88ms/step - loss: 1.6441 - accuracy: 0.3698 - val_loss: 1.4243 - val_accuracy: 0.4631\n",
            "\n",
            "Epoch 00004: val_accuracy improved from 0.42017 to 0.46308, saving model to /content/drive/MyDrive/Colab Notebooks/models/Baseline-weights-best.hdf5\n",
            "Epoch 5/150\n",
            "225/225 [==============================] - 20s 89ms/step - loss: 1.5827 - accuracy: 0.3943 - val_loss: 1.8245 - val_accuracy: 0.4737\n",
            "\n",
            "Epoch 00005: val_accuracy improved from 0.46308 to 0.47367, saving model to /content/drive/MyDrive/Colab Notebooks/models/Baseline-weights-best.hdf5\n",
            "Epoch 6/150\n",
            "225/225 [==============================] - 20s 89ms/step - loss: 1.5290 - accuracy: 0.4108 - val_loss: 1.6645 - val_accuracy: 0.4884\n",
            "\n",
            "Epoch 00006: val_accuracy improved from 0.47367 to 0.48844, saving model to /content/drive/MyDrive/Colab Notebooks/models/Baseline-weights-best.hdf5\n",
            "Epoch 7/150\n",
            "225/225 [==============================] - 20s 88ms/step - loss: 1.4891 - accuracy: 0.4313 - val_loss: 1.2697 - val_accuracy: 0.4957\n",
            "\n",
            "Epoch 00007: val_accuracy improved from 0.48844 to 0.49568, saving model to /content/drive/MyDrive/Colab Notebooks/models/Baseline-weights-best.hdf5\n",
            "Epoch 8/150\n",
            "225/225 [==============================] - 20s 89ms/step - loss: 1.4526 - accuracy: 0.4428 - val_loss: 1.2110 - val_accuracy: 0.5043\n",
            "\n",
            "Epoch 00008: val_accuracy improved from 0.49568 to 0.50432, saving model to /content/drive/MyDrive/Colab Notebooks/models/Baseline-weights-best.hdf5\n",
            "Epoch 9/150\n",
            "225/225 [==============================] - 20s 89ms/step - loss: 1.4242 - accuracy: 0.4523 - val_loss: 1.0679 - val_accuracy: 0.5102\n",
            "\n",
            "Epoch 00009: val_accuracy improved from 0.50432 to 0.51017, saving model to /content/drive/MyDrive/Colab Notebooks/models/Baseline-weights-best.hdf5\n",
            "Epoch 10/150\n",
            "225/225 [==============================] - 20s 88ms/step - loss: 1.3999 - accuracy: 0.4657 - val_loss: 1.0289 - val_accuracy: 0.5241\n",
            "\n",
            "Epoch 00010: val_accuracy improved from 0.51017 to 0.52410, saving model to /content/drive/MyDrive/Colab Notebooks/models/Baseline-weights-best.hdf5\n",
            "Epoch 11/150\n",
            "225/225 [==============================] - 20s 89ms/step - loss: 1.3797 - accuracy: 0.4743 - val_loss: 0.7366 - val_accuracy: 0.5394\n",
            "\n",
            "Epoch 00011: val_accuracy improved from 0.52410 to 0.53943, saving model to /content/drive/MyDrive/Colab Notebooks/models/Baseline-weights-best.hdf5\n",
            "Epoch 12/150\n",
            "225/225 [==============================] - 20s 89ms/step - loss: 1.3687 - accuracy: 0.4731 - val_loss: 0.8783 - val_accuracy: 0.5358\n",
            "\n",
            "Epoch 00012: val_accuracy did not improve from 0.53943\n",
            "Epoch 13/150\n",
            "225/225 [==============================] - 20s 90ms/step - loss: 1.3455 - accuracy: 0.4887 - val_loss: 1.2934 - val_accuracy: 0.5417\n",
            "\n",
            "Epoch 00013: val_accuracy improved from 0.53943 to 0.54166, saving model to /content/drive/MyDrive/Colab Notebooks/models/Baseline-weights-best.hdf5\n",
            "Epoch 14/150\n",
            "225/225 [==============================] - 20s 90ms/step - loss: 1.3303 - accuracy: 0.4902 - val_loss: 0.4680 - val_accuracy: 0.5525\n",
            "\n",
            "Epoch 00014: val_accuracy improved from 0.54166 to 0.55252, saving model to /content/drive/MyDrive/Colab Notebooks/models/Baseline-weights-best.hdf5\n",
            "Epoch 15/150\n",
            "225/225 [==============================] - 20s 89ms/step - loss: 1.3141 - accuracy: 0.4964 - val_loss: 1.3493 - val_accuracy: 0.5528\n",
            "\n",
            "Epoch 00015: val_accuracy improved from 0.55252 to 0.55280, saving model to /content/drive/MyDrive/Colab Notebooks/models/Baseline-weights-best.hdf5\n",
            "Epoch 16/150\n",
            "225/225 [==============================] - 20s 90ms/step - loss: 1.3006 - accuracy: 0.5030 - val_loss: 0.7421 - val_accuracy: 0.5678\n",
            "\n",
            "Epoch 00016: val_accuracy improved from 0.55280 to 0.56785, saving model to /content/drive/MyDrive/Colab Notebooks/models/Baseline-weights-best.hdf5\n",
            "Epoch 17/150\n",
            "225/225 [==============================] - 20s 90ms/step - loss: 1.2928 - accuracy: 0.5069 - val_loss: 0.6215 - val_accuracy: 0.5548\n",
            "\n",
            "Epoch 00017: val_accuracy did not improve from 0.56785\n",
            "Epoch 18/150\n",
            "225/225 [==============================] - 20s 88ms/step - loss: 1.2813 - accuracy: 0.5126 - val_loss: 2.1674 - val_accuracy: 0.5815\n",
            "\n",
            "Epoch 00018: val_accuracy improved from 0.56785 to 0.58150, saving model to /content/drive/MyDrive/Colab Notebooks/models/Baseline-weights-best.hdf5\n",
            "Epoch 19/150\n",
            "225/225 [==============================] - 20s 89ms/step - loss: 1.2673 - accuracy: 0.5130 - val_loss: 1.2024 - val_accuracy: 0.5684\n",
            "\n",
            "Epoch 00019: val_accuracy did not improve from 0.58150\n",
            "Epoch 20/150\n",
            "225/225 [==============================] - 20s 89ms/step - loss: 1.2581 - accuracy: 0.5209 - val_loss: 0.7692 - val_accuracy: 0.5717\n",
            "\n",
            "Epoch 00020: val_accuracy did not improve from 0.58150\n",
            "Epoch 21/150\n",
            "225/225 [==============================] - 20s 89ms/step - loss: 1.2510 - accuracy: 0.5271 - val_loss: 1.5475 - val_accuracy: 0.5793\n",
            "\n",
            "Epoch 00021: val_accuracy did not improve from 0.58150\n",
            "Epoch 22/150\n",
            "225/225 [==============================] - 20s 89ms/step - loss: 1.2376 - accuracy: 0.5272 - val_loss: 0.4869 - val_accuracy: 0.5756\n",
            "\n",
            "Epoch 00022: val_accuracy did not improve from 0.58150\n",
            "Epoch 23/150\n",
            "225/225 [==============================] - 20s 89ms/step - loss: 1.2330 - accuracy: 0.5332 - val_loss: 0.8029 - val_accuracy: 0.5768\n",
            "\n",
            "Epoch 00023: val_accuracy did not improve from 0.58150\n",
            "Epoch 24/150\n",
            "225/225 [==============================] - 20s 89ms/step - loss: 1.2228 - accuracy: 0.5354 - val_loss: 0.8713 - val_accuracy: 0.5837\n",
            "\n",
            "Epoch 00024: val_accuracy improved from 0.58150 to 0.58373, saving model to /content/drive/MyDrive/Colab Notebooks/models/Baseline-weights-best.hdf5\n",
            "Epoch 25/150\n",
            "225/225 [==============================] - 20s 89ms/step - loss: 1.2179 - accuracy: 0.5375 - val_loss: 0.5522 - val_accuracy: 0.5826\n",
            "\n",
            "Epoch 00025: val_accuracy did not improve from 0.58373\n",
            "Epoch 26/150\n",
            "225/225 [==============================] - 20s 89ms/step - loss: 1.2076 - accuracy: 0.5403 - val_loss: 1.5693 - val_accuracy: 0.5837\n",
            "\n",
            "Epoch 00026: val_accuracy did not improve from 0.58373\n",
            "Epoch 27/150\n",
            "225/225 [==============================] - 20s 89ms/step - loss: 1.2050 - accuracy: 0.5428 - val_loss: 1.2714 - val_accuracy: 0.5904\n",
            "\n",
            "Epoch 00027: val_accuracy improved from 0.58373 to 0.59042, saving model to /content/drive/MyDrive/Colab Notebooks/models/Baseline-weights-best.hdf5\n",
            "Epoch 28/150\n",
            "225/225 [==============================] - 20s 90ms/step - loss: 1.1944 - accuracy: 0.5434 - val_loss: 0.7999 - val_accuracy: 0.5918\n",
            "\n",
            "Epoch 00028: val_accuracy improved from 0.59042 to 0.59181, saving model to /content/drive/MyDrive/Colab Notebooks/models/Baseline-weights-best.hdf5\n",
            "Epoch 29/150\n",
            "225/225 [==============================] - 20s 90ms/step - loss: 1.1913 - accuracy: 0.5466 - val_loss: 0.7492 - val_accuracy: 0.5926\n",
            "\n",
            "Epoch 00029: val_accuracy improved from 0.59181 to 0.59264, saving model to /content/drive/MyDrive/Colab Notebooks/models/Baseline-weights-best.hdf5\n",
            "Epoch 30/150\n",
            "225/225 [==============================] - 20s 90ms/step - loss: 1.1804 - accuracy: 0.5506 - val_loss: 0.7273 - val_accuracy: 0.5960\n",
            "\n",
            "Epoch 00030: val_accuracy improved from 0.59264 to 0.59599, saving model to /content/drive/MyDrive/Colab Notebooks/models/Baseline-weights-best.hdf5\n",
            "Epoch 31/150\n",
            "225/225 [==============================] - 20s 89ms/step - loss: 1.1796 - accuracy: 0.5530 - val_loss: 1.2813 - val_accuracy: 0.5924\n",
            "\n",
            "Epoch 00031: val_accuracy did not improve from 0.59599\n",
            "Epoch 32/150\n",
            "225/225 [==============================] - 20s 89ms/step - loss: 1.1777 - accuracy: 0.5497 - val_loss: 0.9319 - val_accuracy: 0.5885\n",
            "\n",
            "Epoch 00032: val_accuracy did not improve from 0.59599\n",
            "Epoch 33/150\n",
            "225/225 [==============================] - 20s 90ms/step - loss: 1.1683 - accuracy: 0.5571 - val_loss: 1.3454 - val_accuracy: 0.5924\n",
            "\n",
            "Epoch 00033: val_accuracy did not improve from 0.59599\n",
            "Epoch 34/150\n",
            "225/225 [==============================] - 20s 89ms/step - loss: 1.1705 - accuracy: 0.5546 - val_loss: 0.8417 - val_accuracy: 0.5957\n",
            "\n",
            "Epoch 00034: val_accuracy did not improve from 0.59599\n",
            "Epoch 35/150\n",
            "225/225 [==============================] - 20s 89ms/step - loss: 1.1623 - accuracy: 0.5571 - val_loss: 0.7509 - val_accuracy: 0.5954\n",
            "\n",
            "Epoch 00035: val_accuracy did not improve from 0.59599\n",
            "Epoch 36/150\n",
            "225/225 [==============================] - 20s 89ms/step - loss: 1.1545 - accuracy: 0.5609 - val_loss: 0.8976 - val_accuracy: 0.5993\n",
            "\n",
            "Epoch 00036: val_accuracy improved from 0.59599 to 0.59933, saving model to /content/drive/MyDrive/Colab Notebooks/models/Baseline-weights-best.hdf5\n",
            "Epoch 37/150\n",
            "225/225 [==============================] - 20s 90ms/step - loss: 1.1496 - accuracy: 0.5661 - val_loss: 0.3357 - val_accuracy: 0.6046\n",
            "\n",
            "Epoch 00037: val_accuracy improved from 0.59933 to 0.60463, saving model to /content/drive/MyDrive/Colab Notebooks/models/Baseline-weights-best.hdf5\n",
            "Epoch 38/150\n",
            "225/225 [==============================] - 20s 89ms/step - loss: 1.1457 - accuracy: 0.5623 - val_loss: 1.2446 - val_accuracy: 0.6032\n",
            "\n",
            "Epoch 00038: val_accuracy did not improve from 0.60463\n",
            "Epoch 39/150\n",
            "225/225 [==============================] - 20s 89ms/step - loss: 1.1462 - accuracy: 0.5645 - val_loss: 1.3173 - val_accuracy: 0.6060\n",
            "\n",
            "Epoch 00039: val_accuracy improved from 0.60463 to 0.60602, saving model to /content/drive/MyDrive/Colab Notebooks/models/Baseline-weights-best.hdf5\n",
            "Epoch 40/150\n",
            "225/225 [==============================] - 20s 89ms/step - loss: 1.1382 - accuracy: 0.5661 - val_loss: 0.8044 - val_accuracy: 0.6063\n",
            "\n",
            "Epoch 00040: val_accuracy improved from 0.60602 to 0.60630, saving model to /content/drive/MyDrive/Colab Notebooks/models/Baseline-weights-best.hdf5\n",
            "Epoch 41/150\n",
            "225/225 [==============================] - 20s 90ms/step - loss: 1.1414 - accuracy: 0.5689 - val_loss: 1.3915 - val_accuracy: 0.6021\n",
            "\n",
            "Epoch 00041: val_accuracy did not improve from 0.60630\n",
            "Epoch 42/150\n",
            "225/225 [==============================] - 20s 90ms/step - loss: 1.1338 - accuracy: 0.5712 - val_loss: 2.1970 - val_accuracy: 0.6116\n",
            "\n",
            "Epoch 00042: val_accuracy improved from 0.60630 to 0.61159, saving model to /content/drive/MyDrive/Colab Notebooks/models/Baseline-weights-best.hdf5\n",
            "Epoch 43/150\n",
            "225/225 [==============================] - 20s 90ms/step - loss: 1.1290 - accuracy: 0.5716 - val_loss: 1.1919 - val_accuracy: 0.6060\n",
            "\n",
            "Epoch 00043: val_accuracy did not improve from 0.61159\n",
            "Epoch 44/150\n",
            "225/225 [==============================] - 20s 89ms/step - loss: 1.1292 - accuracy: 0.5712 - val_loss: 0.3670 - val_accuracy: 0.6069\n",
            "\n",
            "Epoch 00044: val_accuracy did not improve from 0.61159\n",
            "Epoch 45/150\n",
            "225/225 [==============================] - 20s 90ms/step - loss: 1.1230 - accuracy: 0.5731 - val_loss: 0.8988 - val_accuracy: 0.6082\n",
            "\n",
            "Epoch 00045: val_accuracy did not improve from 0.61159\n",
            "Epoch 46/150\n",
            "225/225 [==============================] - 20s 89ms/step - loss: 1.1165 - accuracy: 0.5778 - val_loss: 1.1907 - val_accuracy: 0.6091\n",
            "\n",
            "Epoch 00046: val_accuracy did not improve from 0.61159\n",
            "Epoch 47/150\n",
            "225/225 [==============================] - 20s 89ms/step - loss: 1.1169 - accuracy: 0.5745 - val_loss: 0.7936 - val_accuracy: 0.6119\n",
            "\n",
            "Epoch 00047: val_accuracy improved from 0.61159 to 0.61187, saving model to /content/drive/MyDrive/Colab Notebooks/models/Baseline-weights-best.hdf5\n",
            "Epoch 48/150\n",
            "225/225 [==============================] - 20s 90ms/step - loss: 1.1121 - accuracy: 0.5792 - val_loss: 0.8929 - val_accuracy: 0.6035\n",
            "\n",
            "Epoch 00048: val_accuracy did not improve from 0.61187\n",
            "Epoch 49/150\n",
            "225/225 [==============================] - 20s 90ms/step - loss: 1.1100 - accuracy: 0.5770 - val_loss: 0.5798 - val_accuracy: 0.6102\n",
            "\n",
            "Epoch 00049: val_accuracy did not improve from 0.61187\n",
            "Epoch 50/150\n",
            "225/225 [==============================] - 20s 90ms/step - loss: 1.1028 - accuracy: 0.5797 - val_loss: 0.3036 - val_accuracy: 0.6197\n",
            "\n",
            "Epoch 00050: val_accuracy improved from 0.61187 to 0.61967, saving model to /content/drive/MyDrive/Colab Notebooks/models/Baseline-weights-best.hdf5\n",
            "Epoch 51/150\n",
            "225/225 [==============================] - 20s 89ms/step - loss: 1.1034 - accuracy: 0.5808 - val_loss: 0.9142 - val_accuracy: 0.6130\n",
            "\n",
            "Epoch 00051: val_accuracy did not improve from 0.61967\n",
            "Epoch 52/150\n",
            "225/225 [==============================] - 20s 91ms/step - loss: 1.1003 - accuracy: 0.5831 - val_loss: 1.5422 - val_accuracy: 0.6002\n",
            "\n",
            "Epoch 00052: val_accuracy did not improve from 0.61967\n",
            "Epoch 53/150\n",
            "225/225 [==============================] - 20s 89ms/step - loss: 1.0953 - accuracy: 0.5845 - val_loss: 0.3900 - val_accuracy: 0.6266\n",
            "\n",
            "Epoch 00053: val_accuracy improved from 0.61967 to 0.62664, saving model to /content/drive/MyDrive/Colab Notebooks/models/Baseline-weights-best.hdf5\n",
            "Epoch 54/150\n",
            "225/225 [==============================] - 20s 89ms/step - loss: 1.0943 - accuracy: 0.5853 - val_loss: 1.2742 - val_accuracy: 0.6205\n",
            "\n",
            "Epoch 00054: val_accuracy did not improve from 0.62664\n",
            "Epoch 55/150\n",
            "225/225 [==============================] - 20s 90ms/step - loss: 1.0885 - accuracy: 0.5861 - val_loss: 0.6940 - val_accuracy: 0.6121\n",
            "\n",
            "Epoch 00055: val_accuracy did not improve from 0.62664\n",
            "Epoch 56/150\n",
            "225/225 [==============================] - 20s 89ms/step - loss: 1.0926 - accuracy: 0.5895 - val_loss: 0.6001 - val_accuracy: 0.6138\n",
            "\n",
            "Epoch 00056: val_accuracy did not improve from 0.62664\n",
            "Epoch 57/150\n",
            "225/225 [==============================] - 20s 90ms/step - loss: 1.0847 - accuracy: 0.5903 - val_loss: 1.1620 - val_accuracy: 0.6169\n",
            "\n",
            "Epoch 00057: val_accuracy did not improve from 0.62664\n",
            "Epoch 58/150\n",
            "225/225 [==============================] - 20s 91ms/step - loss: 1.0789 - accuracy: 0.5907 - val_loss: 2.3924 - val_accuracy: 0.6172\n",
            "\n",
            "Epoch 00058: val_accuracy did not improve from 0.62664\n",
            "Epoch 59/150\n",
            "225/225 [==============================] - 20s 89ms/step - loss: 1.0873 - accuracy: 0.5900 - val_loss: 1.6770 - val_accuracy: 0.6211\n",
            "\n",
            "Epoch 00059: val_accuracy did not improve from 0.62664\n",
            "Epoch 60/150\n",
            "225/225 [==============================] - 20s 90ms/step - loss: 1.0824 - accuracy: 0.5872 - val_loss: 0.9782 - val_accuracy: 0.6225\n",
            "\n",
            "Epoch 00060: val_accuracy did not improve from 0.62664\n",
            "Epoch 61/150\n",
            "225/225 [==============================] - 20s 90ms/step - loss: 1.0681 - accuracy: 0.5965 - val_loss: 0.8826 - val_accuracy: 0.6197\n",
            "\n",
            "Epoch 00061: val_accuracy did not improve from 0.62664\n",
            "Epoch 62/150\n",
            "225/225 [==============================] - 20s 89ms/step - loss: 1.0694 - accuracy: 0.5966 - val_loss: 0.7918 - val_accuracy: 0.6177\n",
            "\n",
            "Epoch 00062: val_accuracy did not improve from 0.62664\n",
            "Epoch 63/150\n",
            "225/225 [==============================] - 20s 89ms/step - loss: 1.0720 - accuracy: 0.5916 - val_loss: 1.3236 - val_accuracy: 0.6197\n",
            "\n",
            "Epoch 00063: ReduceLROnPlateau reducing learning rate to 0.004999999888241291.\n",
            "\n",
            "Epoch 00063: val_accuracy did not improve from 0.62664\n",
            "Epoch 64/150\n",
            "225/225 [==============================] - 20s 89ms/step - loss: 1.0599 - accuracy: 0.6031 - val_loss: 0.2918 - val_accuracy: 0.6283\n",
            "\n",
            "Epoch 00064: val_accuracy improved from 0.62664 to 0.62831, saving model to /content/drive/MyDrive/Colab Notebooks/models/Baseline-weights-best.hdf5\n",
            "Epoch 65/150\n",
            "225/225 [==============================] - 20s 90ms/step - loss: 1.0532 - accuracy: 0.5996 - val_loss: 0.8200 - val_accuracy: 0.6258\n",
            "\n",
            "Epoch 00065: val_accuracy did not improve from 0.62831\n",
            "Epoch 66/150\n",
            "225/225 [==============================] - 20s 89ms/step - loss: 1.0449 - accuracy: 0.6051 - val_loss: 1.2095 - val_accuracy: 0.6291\n",
            "\n",
            "Epoch 00066: val_accuracy improved from 0.62831 to 0.62914, saving model to /content/drive/MyDrive/Colab Notebooks/models/Baseline-weights-best.hdf5\n",
            "Epoch 67/150\n",
            "225/225 [==============================] - 20s 91ms/step - loss: 1.0480 - accuracy: 0.6036 - val_loss: 0.3781 - val_accuracy: 0.6183\n",
            "\n",
            "Epoch 00067: val_accuracy did not improve from 0.62914\n",
            "Epoch 68/150\n",
            "225/225 [==============================] - 20s 90ms/step - loss: 1.0491 - accuracy: 0.6064 - val_loss: 0.9276 - val_accuracy: 0.6286\n",
            "\n",
            "Epoch 00068: val_accuracy did not improve from 0.62914\n",
            "Epoch 69/150\n",
            "225/225 [==============================] - 20s 89ms/step - loss: 1.0486 - accuracy: 0.6041 - val_loss: 1.2390 - val_accuracy: 0.6252\n",
            "\n",
            "Epoch 00069: val_accuracy did not improve from 0.62914\n",
            "Epoch 70/150\n",
            "225/225 [==============================] - 20s 90ms/step - loss: 1.0361 - accuracy: 0.6088 - val_loss: 0.5105 - val_accuracy: 0.6300\n",
            "\n",
            "Epoch 00070: val_accuracy improved from 0.62914 to 0.62998, saving model to /content/drive/MyDrive/Colab Notebooks/models/Baseline-weights-best.hdf5\n",
            "Epoch 71/150\n",
            "225/225 [==============================] - 20s 90ms/step - loss: 1.0503 - accuracy: 0.6043 - val_loss: 2.1141 - val_accuracy: 0.6308\n",
            "\n",
            "Epoch 00071: val_accuracy improved from 0.62998 to 0.63082, saving model to /content/drive/MyDrive/Colab Notebooks/models/Baseline-weights-best.hdf5\n",
            "Epoch 72/150\n",
            "225/225 [==============================] - 20s 89ms/step - loss: 1.0392 - accuracy: 0.6090 - val_loss: 0.5518 - val_accuracy: 0.6247\n",
            "\n",
            "Epoch 00072: val_accuracy did not improve from 0.63082\n",
            "Epoch 73/150\n",
            "225/225 [==============================] - 20s 91ms/step - loss: 1.0433 - accuracy: 0.6050 - val_loss: 1.6909 - val_accuracy: 0.6303\n",
            "\n",
            "Epoch 00073: val_accuracy did not improve from 0.63082\n",
            "Epoch 74/150\n",
            "225/225 [==============================] - 20s 90ms/step - loss: 1.0351 - accuracy: 0.6102 - val_loss: 0.6824 - val_accuracy: 0.6275\n",
            "\n",
            "Epoch 00074: val_accuracy did not improve from 0.63082\n",
            "Epoch 75/150\n",
            "225/225 [==============================] - 20s 89ms/step - loss: 1.0351 - accuracy: 0.6125 - val_loss: 0.5477 - val_accuracy: 0.6317\n",
            "\n",
            "Epoch 00075: val_accuracy improved from 0.63082 to 0.63165, saving model to /content/drive/MyDrive/Colab Notebooks/models/Baseline-weights-best.hdf5\n",
            "Epoch 76/150\n",
            "225/225 [==============================] - 20s 91ms/step - loss: 1.0358 - accuracy: 0.6069 - val_loss: 1.1906 - val_accuracy: 0.6303\n",
            "\n",
            "Epoch 00076: val_accuracy did not improve from 0.63165\n",
            "Epoch 77/150\n",
            "225/225 [==============================] - 20s 89ms/step - loss: 1.0353 - accuracy: 0.6118 - val_loss: 1.4131 - val_accuracy: 0.6297\n",
            "\n",
            "Epoch 00077: val_accuracy did not improve from 0.63165\n",
            "Epoch 78/150\n",
            "225/225 [==============================] - 20s 90ms/step - loss: 1.0351 - accuracy: 0.6072 - val_loss: 0.4348 - val_accuracy: 0.6308\n",
            "\n",
            "Epoch 00078: val_accuracy did not improve from 0.63165\n",
            "Epoch 79/150\n",
            "225/225 [==============================] - 20s 90ms/step - loss: 1.0290 - accuracy: 0.6110 - val_loss: 0.8729 - val_accuracy: 0.6278\n",
            "\n",
            "Epoch 00079: val_accuracy did not improve from 0.63165\n",
            "Epoch 80/150\n",
            "225/225 [==============================] - 20s 89ms/step - loss: 1.0316 - accuracy: 0.6093 - val_loss: 0.4628 - val_accuracy: 0.6322\n",
            "\n",
            "Epoch 00080: val_accuracy improved from 0.63165 to 0.63221, saving model to /content/drive/MyDrive/Colab Notebooks/models/Baseline-weights-best.hdf5\n",
            "Epoch 81/150\n",
            "225/225 [==============================] - 20s 90ms/step - loss: 1.0315 - accuracy: 0.6128 - val_loss: 1.6300 - val_accuracy: 0.6344\n",
            "\n",
            "Epoch 00081: val_accuracy improved from 0.63221 to 0.63444, saving model to /content/drive/MyDrive/Colab Notebooks/models/Baseline-weights-best.hdf5\n",
            "Epoch 82/150\n",
            "225/225 [==============================] - 20s 91ms/step - loss: 1.0249 - accuracy: 0.6138 - val_loss: 0.7455 - val_accuracy: 0.6317\n",
            "\n",
            "Epoch 00082: val_accuracy did not improve from 0.63444\n",
            "Epoch 83/150\n",
            "225/225 [==============================] - 20s 90ms/step - loss: 1.0283 - accuracy: 0.6126 - val_loss: 0.4581 - val_accuracy: 0.6322\n",
            "\n",
            "Epoch 00083: val_accuracy did not improve from 0.63444\n",
            "Epoch 84/150\n",
            "225/225 [==============================] - 20s 90ms/step - loss: 1.0233 - accuracy: 0.6141 - val_loss: 2.2828 - val_accuracy: 0.6330\n",
            "\n",
            "Epoch 00084: val_accuracy did not improve from 0.63444\n",
            "Epoch 85/150\n",
            "225/225 [==============================] - 20s 90ms/step - loss: 1.0225 - accuracy: 0.6141 - val_loss: 1.0997 - val_accuracy: 0.6308\n",
            "\n",
            "Epoch 00085: val_accuracy did not improve from 0.63444\n",
            "Epoch 86/150\n",
            "225/225 [==============================] - 21s 91ms/step - loss: 1.0249 - accuracy: 0.6141 - val_loss: 0.7592 - val_accuracy: 0.6328\n",
            "\n",
            "Epoch 00086: val_accuracy did not improve from 0.63444\n",
            "Epoch 87/150\n",
            "225/225 [==============================] - 20s 90ms/step - loss: 1.0223 - accuracy: 0.6143 - val_loss: 0.9812 - val_accuracy: 0.6289\n",
            "\n",
            "Epoch 00087: val_accuracy did not improve from 0.63444\n",
            "Epoch 88/150\n",
            "225/225 [==============================] - 20s 90ms/step - loss: 1.0238 - accuracy: 0.6122 - val_loss: 0.9918 - val_accuracy: 0.6328\n",
            "\n",
            "Epoch 00088: val_accuracy did not improve from 0.63444\n",
            "Epoch 89/150\n",
            "225/225 [==============================] - 20s 91ms/step - loss: 1.0291 - accuracy: 0.6128 - val_loss: 1.1958 - val_accuracy: 0.6328\n",
            "\n",
            "Epoch 00089: val_accuracy did not improve from 0.63444\n",
            "Epoch 90/150\n",
            "225/225 [==============================] - 20s 89ms/step - loss: 1.0195 - accuracy: 0.6150 - val_loss: 1.3038 - val_accuracy: 0.6353\n",
            "\n",
            "Epoch 00090: val_accuracy improved from 0.63444 to 0.63527, saving model to /content/drive/MyDrive/Colab Notebooks/models/Baseline-weights-best.hdf5\n",
            "Epoch 91/150\n",
            "225/225 [==============================] - 20s 90ms/step - loss: 1.0169 - accuracy: 0.6162 - val_loss: 0.8838 - val_accuracy: 0.6325\n",
            "\n",
            "Epoch 00091: val_accuracy did not improve from 0.63527\n",
            "Epoch 92/150\n",
            "225/225 [==============================] - 20s 90ms/step - loss: 1.0188 - accuracy: 0.6157 - val_loss: 1.3805 - val_accuracy: 0.6353\n",
            "\n",
            "Epoch 00092: val_accuracy did not improve from 0.63527\n",
            "Epoch 93/150\n",
            "225/225 [==============================] - 20s 90ms/step - loss: 1.0175 - accuracy: 0.6169 - val_loss: 0.7369 - val_accuracy: 0.6367\n",
            "\n",
            "Epoch 00093: val_accuracy improved from 0.63527 to 0.63667, saving model to /content/drive/MyDrive/Colab Notebooks/models/Baseline-weights-best.hdf5\n",
            "Epoch 94/150\n",
            "225/225 [==============================] - 20s 90ms/step - loss: 1.0183 - accuracy: 0.6179 - val_loss: 1.1522 - val_accuracy: 0.6378\n",
            "\n",
            "Epoch 00094: val_accuracy improved from 0.63667 to 0.63778, saving model to /content/drive/MyDrive/Colab Notebooks/models/Baseline-weights-best.hdf5\n",
            "Epoch 95/150\n",
            "225/225 [==============================] - 20s 89ms/step - loss: 1.0156 - accuracy: 0.6151 - val_loss: 0.4082 - val_accuracy: 0.6358\n",
            "\n",
            "Epoch 00095: val_accuracy did not improve from 0.63778\n",
            "Epoch 96/150\n",
            "225/225 [==============================] - 20s 90ms/step - loss: 1.0136 - accuracy: 0.6181 - val_loss: 0.6299 - val_accuracy: 0.6389\n",
            "\n",
            "Epoch 00096: val_accuracy improved from 0.63778 to 0.63890, saving model to /content/drive/MyDrive/Colab Notebooks/models/Baseline-weights-best.hdf5\n",
            "Epoch 97/150\n",
            "225/225 [==============================] - 20s 91ms/step - loss: 1.0139 - accuracy: 0.6178 - val_loss: 0.6820 - val_accuracy: 0.6436\n",
            "\n",
            "Epoch 00097: val_accuracy improved from 0.63890 to 0.64363, saving model to /content/drive/MyDrive/Colab Notebooks/models/Baseline-weights-best.hdf5\n",
            "Epoch 98/150\n",
            "225/225 [==============================] - 20s 90ms/step - loss: 1.0130 - accuracy: 0.6162 - val_loss: 1.1020 - val_accuracy: 0.6425\n",
            "\n",
            "Epoch 00098: val_accuracy did not improve from 0.64363\n",
            "Epoch 99/150\n",
            "225/225 [==============================] - 20s 91ms/step - loss: 1.0177 - accuracy: 0.6152 - val_loss: 0.3789 - val_accuracy: 0.6420\n",
            "\n",
            "Epoch 00099: val_accuracy did not improve from 0.64363\n",
            "Epoch 100/150\n",
            "225/225 [==============================] - 20s 90ms/step - loss: 1.0131 - accuracy: 0.6205 - val_loss: 1.2281 - val_accuracy: 0.6381\n",
            "\n",
            "Epoch 00100: val_accuracy did not improve from 0.64363\n",
            "Epoch 101/150\n",
            "225/225 [==============================] - 20s 90ms/step - loss: 1.0084 - accuracy: 0.6217 - val_loss: 0.5301 - val_accuracy: 0.6369\n",
            "\n",
            "Epoch 00101: val_accuracy did not improve from 0.64363\n",
            "Epoch 102/150\n",
            "225/225 [==============================] - 21s 91ms/step - loss: 1.0121 - accuracy: 0.6194 - val_loss: 0.9495 - val_accuracy: 0.6420\n",
            "\n",
            "Epoch 00102: val_accuracy did not improve from 0.64363\n",
            "Epoch 103/150\n",
            "225/225 [==============================] - 20s 90ms/step - loss: 1.0085 - accuracy: 0.6197 - val_loss: 0.7916 - val_accuracy: 0.6417\n",
            "\n",
            "Epoch 00103: val_accuracy did not improve from 0.64363\n",
            "Epoch 104/150\n",
            "225/225 [==============================] - 20s 90ms/step - loss: 1.0125 - accuracy: 0.6181 - val_loss: 1.5548 - val_accuracy: 0.6400\n",
            "\n",
            "Epoch 00104: val_accuracy did not improve from 0.64363\n",
            "Epoch 105/150\n",
            "225/225 [==============================] - 20s 90ms/step - loss: 1.0081 - accuracy: 0.6212 - val_loss: 0.7047 - val_accuracy: 0.6381\n",
            "\n",
            "Epoch 00105: val_accuracy did not improve from 0.64363\n",
            "Epoch 106/150\n",
            "225/225 [==============================] - 20s 90ms/step - loss: 1.0098 - accuracy: 0.6177 - val_loss: 1.3104 - val_accuracy: 0.6406\n",
            "\n",
            "Epoch 00106: val_accuracy did not improve from 0.64363\n",
            "Epoch 107/150\n",
            "225/225 [==============================] - 20s 90ms/step - loss: 1.0066 - accuracy: 0.6212 - val_loss: 0.4046 - val_accuracy: 0.6364\n",
            "\n",
            "Epoch 00107: ReduceLROnPlateau reducing learning rate to 0.0024999999441206455.\n",
            "\n",
            "Epoch 00107: val_accuracy did not improve from 0.64363\n",
            "Epoch 108/150\n",
            "225/225 [==============================] - 20s 91ms/step - loss: 1.0026 - accuracy: 0.6237 - val_loss: 0.7719 - val_accuracy: 0.6431\n",
            "\n",
            "Epoch 00108: val_accuracy did not improve from 0.64363\n",
            "Epoch 109/150\n",
            "225/225 [==============================] - 20s 91ms/step - loss: 1.0003 - accuracy: 0.6210 - val_loss: 1.2439 - val_accuracy: 0.6428\n",
            "\n",
            "Epoch 00109: val_accuracy did not improve from 0.64363\n",
            "Epoch 110/150\n",
            "225/225 [==============================] - 21s 91ms/step - loss: 0.9992 - accuracy: 0.6219 - val_loss: 1.8220 - val_accuracy: 0.6389\n",
            "\n",
            "Epoch 00110: val_accuracy did not improve from 0.64363\n",
            "Epoch 111/150\n",
            "225/225 [==============================] - 20s 90ms/step - loss: 1.0016 - accuracy: 0.6234 - val_loss: 0.6668 - val_accuracy: 0.6414\n",
            "\n",
            "Epoch 00111: val_accuracy did not improve from 0.64363\n",
            "Epoch 112/150\n",
            "225/225 [==============================] - 21s 92ms/step - loss: 0.9990 - accuracy: 0.6246 - val_loss: 1.2783 - val_accuracy: 0.6428\n",
            "\n",
            "Epoch 00112: val_accuracy did not improve from 0.64363\n",
            "Epoch 113/150\n",
            "225/225 [==============================] - 20s 91ms/step - loss: 0.9964 - accuracy: 0.6227 - val_loss: 0.4586 - val_accuracy: 0.6420\n",
            "\n",
            "Epoch 00113: val_accuracy did not improve from 0.64363\n",
            "Epoch 114/150\n",
            "225/225 [==============================] - 21s 92ms/step - loss: 0.9953 - accuracy: 0.6244 - val_loss: 1.6536 - val_accuracy: 0.6400\n",
            "\n",
            "Epoch 00114: val_accuracy did not improve from 0.64363\n",
            "Epoch 115/150\n",
            "225/225 [==============================] - 20s 91ms/step - loss: 0.9998 - accuracy: 0.6257 - val_loss: 0.5851 - val_accuracy: 0.6445\n",
            "\n",
            "Epoch 00115: val_accuracy improved from 0.64363 to 0.64447, saving model to /content/drive/MyDrive/Colab Notebooks/models/Baseline-weights-best.hdf5\n",
            "Epoch 116/150\n",
            "225/225 [==============================] - 21s 91ms/step - loss: 0.9939 - accuracy: 0.6266 - val_loss: 1.0357 - val_accuracy: 0.6392\n",
            "\n",
            "Epoch 00116: val_accuracy did not improve from 0.64447\n",
            "Epoch 117/150\n",
            "225/225 [==============================] - 21s 93ms/step - loss: 0.9922 - accuracy: 0.6267 - val_loss: 0.4946 - val_accuracy: 0.6417\n",
            "\n",
            "Epoch 00117: val_accuracy did not improve from 0.64447\n",
            "Epoch 118/150\n",
            "225/225 [==============================] - 21s 93ms/step - loss: 0.9953 - accuracy: 0.6260 - val_loss: 0.5540 - val_accuracy: 0.6436\n",
            "\n",
            "Epoch 00118: val_accuracy did not improve from 0.64447\n",
            "Epoch 119/150\n",
            "225/225 [==============================] - 20s 90ms/step - loss: 0.9955 - accuracy: 0.6256 - val_loss: 1.3407 - val_accuracy: 0.6395\n",
            "\n",
            "Epoch 00119: val_accuracy did not improve from 0.64447\n",
            "Epoch 120/150\n",
            "225/225 [==============================] - 21s 92ms/step - loss: 0.9939 - accuracy: 0.6259 - val_loss: 0.7126 - val_accuracy: 0.6400\n",
            "\n",
            "Epoch 00120: val_accuracy did not improve from 0.64447\n",
            "Epoch 121/150\n",
            "225/225 [==============================] - 21s 91ms/step - loss: 0.9920 - accuracy: 0.6258 - val_loss: 1.7799 - val_accuracy: 0.6417\n",
            "\n",
            "Epoch 00121: val_accuracy did not improve from 0.64447\n",
            "Epoch 122/150\n",
            "225/225 [==============================] - 20s 90ms/step - loss: 0.9929 - accuracy: 0.6278 - val_loss: 0.9726 - val_accuracy: 0.6461\n",
            "\n",
            "Epoch 00122: val_accuracy improved from 0.64447 to 0.64614, saving model to /content/drive/MyDrive/Colab Notebooks/models/Baseline-weights-best.hdf5\n",
            "Epoch 123/150\n",
            "225/225 [==============================] - 21s 93ms/step - loss: 0.9865 - accuracy: 0.6287 - val_loss: 1.0454 - val_accuracy: 0.6459\n",
            "\n",
            "Epoch 00123: val_accuracy did not improve from 0.64614\n",
            "Epoch 124/150\n",
            "225/225 [==============================] - 20s 90ms/step - loss: 0.9954 - accuracy: 0.6263 - val_loss: 0.8619 - val_accuracy: 0.6439\n",
            "\n",
            "Epoch 00124: val_accuracy did not improve from 0.64614\n",
            "Epoch 125/150\n",
            "225/225 [==============================] - 20s 91ms/step - loss: 0.9931 - accuracy: 0.6265 - val_loss: 1.2956 - val_accuracy: 0.6414\n",
            "\n",
            "Epoch 00125: val_accuracy did not improve from 0.64614\n",
            "Epoch 126/150\n",
            "225/225 [==============================] - 21s 92ms/step - loss: 0.9913 - accuracy: 0.6260 - val_loss: 0.7159 - val_accuracy: 0.6436\n",
            "\n",
            "Epoch 00126: val_accuracy did not improve from 0.64614\n",
            "Epoch 127/150\n",
            "225/225 [==============================] - 20s 90ms/step - loss: 0.9915 - accuracy: 0.6243 - val_loss: 0.6649 - val_accuracy: 0.6392\n",
            "\n",
            "Epoch 00127: val_accuracy did not improve from 0.64614\n",
            "Epoch 128/150\n",
            "225/225 [==============================] - 20s 91ms/step - loss: 0.9860 - accuracy: 0.6270 - val_loss: 1.1499 - val_accuracy: 0.6417\n",
            "\n",
            "Epoch 00128: val_accuracy did not improve from 0.64614\n",
            "Epoch 129/150\n",
            "225/225 [==============================] - 21s 91ms/step - loss: 0.9913 - accuracy: 0.6259 - val_loss: 2.1348 - val_accuracy: 0.6403\n",
            "\n",
            "Epoch 00129: val_accuracy did not improve from 0.64614\n",
            "Epoch 130/150\n",
            "225/225 [==============================] - 20s 90ms/step - loss: 0.9946 - accuracy: 0.6238 - val_loss: 0.5665 - val_accuracy: 0.6417\n",
            "\n",
            "Epoch 00130: val_accuracy did not improve from 0.64614\n",
            "Epoch 131/150\n",
            "225/225 [==============================] - 21s 92ms/step - loss: 0.9841 - accuracy: 0.6281 - val_loss: 0.2535 - val_accuracy: 0.6434\n",
            "\n",
            "Epoch 00131: val_accuracy did not improve from 0.64614\n",
            "Epoch 132/150\n",
            "225/225 [==============================] - 20s 90ms/step - loss: 0.9875 - accuracy: 0.6271 - val_loss: 0.6609 - val_accuracy: 0.6411\n",
            "\n",
            "Epoch 00132: ReduceLROnPlateau reducing learning rate to 0.0012499999720603228.\n",
            "\n",
            "Epoch 00132: val_accuracy did not improve from 0.64614\n",
            "Epoch 133/150\n",
            "225/225 [==============================] - 20s 90ms/step - loss: 0.9861 - accuracy: 0.6322 - val_loss: 0.3881 - val_accuracy: 0.6406\n",
            "\n",
            "Epoch 00133: val_accuracy did not improve from 0.64614\n",
            "Epoch 134/150\n",
            "225/225 [==============================] - 21s 93ms/step - loss: 0.9875 - accuracy: 0.6293 - val_loss: 2.0123 - val_accuracy: 0.6386\n",
            "\n",
            "Epoch 00134: val_accuracy did not improve from 0.64614\n",
            "Epoch 135/150\n",
            "225/225 [==============================] - 20s 91ms/step - loss: 0.9872 - accuracy: 0.6293 - val_loss: 0.4410 - val_accuracy: 0.6403\n",
            "\n",
            "Epoch 00135: val_accuracy did not improve from 0.64614\n",
            "Epoch 136/150\n",
            "225/225 [==============================] - 21s 92ms/step - loss: 0.9888 - accuracy: 0.6284 - val_loss: 0.8093 - val_accuracy: 0.6422\n",
            "\n",
            "Epoch 00136: val_accuracy did not improve from 0.64614\n",
            "Epoch 137/150\n",
            "225/225 [==============================] - 21s 92ms/step - loss: 0.9846 - accuracy: 0.6271 - val_loss: 1.2405 - val_accuracy: 0.6414\n",
            "\n",
            "Epoch 00137: val_accuracy did not improve from 0.64614\n",
            "Epoch 138/150\n",
            "225/225 [==============================] - 21s 91ms/step - loss: 0.9816 - accuracy: 0.6328 - val_loss: 0.9215 - val_accuracy: 0.6406\n",
            "\n",
            "Epoch 00138: val_accuracy did not improve from 0.64614\n",
            "Epoch 139/150\n",
            "225/225 [==============================] - 20s 91ms/step - loss: 0.9866 - accuracy: 0.6277 - val_loss: 0.9288 - val_accuracy: 0.6442\n",
            "\n",
            "Epoch 00139: val_accuracy did not improve from 0.64614\n",
            "Epoch 140/150\n",
            "225/225 [==============================] - 21s 93ms/step - loss: 0.9802 - accuracy: 0.6303 - val_loss: 0.5420 - val_accuracy: 0.6389\n",
            "\n",
            "Epoch 00140: val_accuracy did not improve from 0.64614\n",
            "Epoch 141/150\n",
            "225/225 [==============================] - 20s 91ms/step - loss: 0.9817 - accuracy: 0.6319 - val_loss: 0.7211 - val_accuracy: 0.6420\n",
            "\n",
            "Epoch 00141: val_accuracy did not improve from 0.64614\n",
            "Epoch 142/150\n",
            "225/225 [==============================] - 20s 91ms/step - loss: 0.9889 - accuracy: 0.6259 - val_loss: 0.3363 - val_accuracy: 0.6445\n",
            "\n",
            "Epoch 00142: ReduceLROnPlateau reducing learning rate to 0.0006249999860301614.\n",
            "\n",
            "Epoch 00142: val_accuracy did not improve from 0.64614\n",
            "Epoch 143/150\n",
            "225/225 [==============================] - 21s 91ms/step - loss: 0.9853 - accuracy: 0.6262 - val_loss: 0.8326 - val_accuracy: 0.6442\n",
            "\n",
            "Epoch 00143: val_accuracy did not improve from 0.64614\n",
            "Epoch 144/150\n",
            "225/225 [==============================] - 21s 91ms/step - loss: 0.9817 - accuracy: 0.6290 - val_loss: 0.9909 - val_accuracy: 0.6422\n",
            "\n",
            "Epoch 00144: val_accuracy did not improve from 0.64614\n",
            "Epoch 145/150\n",
            "225/225 [==============================] - 21s 91ms/step - loss: 0.9819 - accuracy: 0.6307 - val_loss: 2.8212 - val_accuracy: 0.6442\n",
            "\n",
            "Epoch 00145: val_accuracy did not improve from 0.64614\n",
            "Epoch 146/150\n",
            "225/225 [==============================] - 21s 91ms/step - loss: 0.9823 - accuracy: 0.6295 - val_loss: 1.3127 - val_accuracy: 0.6436\n",
            "\n",
            "Epoch 00146: val_accuracy did not improve from 0.64614\n",
            "Epoch 147/150\n",
            "225/225 [==============================] - 20s 91ms/step - loss: 0.9815 - accuracy: 0.6306 - val_loss: 2.1899 - val_accuracy: 0.6422\n",
            "\n",
            "Epoch 00147: val_accuracy did not improve from 0.64614\n",
            "Epoch 148/150\n",
            "225/225 [==============================] - 20s 91ms/step - loss: 0.9860 - accuracy: 0.6289 - val_loss: 0.9301 - val_accuracy: 0.6428\n",
            "\n",
            "Epoch 00148: val_accuracy did not improve from 0.64614\n",
            "Epoch 149/150\n",
            "225/225 [==============================] - 21s 91ms/step - loss: 0.9800 - accuracy: 0.6296 - val_loss: 0.7989 - val_accuracy: 0.6436\n",
            "\n",
            "Epoch 00149: val_accuracy did not improve from 0.64614\n",
            "Epoch 150/150\n",
            "225/225 [==============================] - 21s 92ms/step - loss: 0.9874 - accuracy: 0.6314 - val_loss: 0.6290 - val_accuracy: 0.6425\n",
            "\n",
            "Epoch 00150: val_accuracy did not improve from 0.64614\n"
          ],
          "name": "stdout"
        }
      ]
    },
    {
      "cell_type": "code",
      "metadata": {
        "colab": {
          "base_uri": "https://localhost:8080/"
        },
        "id": "NBYQe4RP2pFk",
        "outputId": "5472e4f2-e977-49f4-9b70-c85f254d4d16"
      },
      "source": [
        "print('\\n# Evaluate on dev data')\n",
        "results_dev = model.evaluate_generator(dev_generator, 3509 // BS)\n",
        "print('dev loss, dev acc:', results_dev)"
      ],
      "execution_count": 13,
      "outputs": [
        {
          "output_type": "stream",
          "text": [
            "\n",
            "# Evaluate on dev data\n",
            "dev loss, dev acc: [0.9381971955299377, 0.6426504850387573]\n"
          ],
          "name": "stdout"
        }
      ]
    },
    {
      "cell_type": "code",
      "metadata": {
        "colab": {
          "base_uri": "https://localhost:8080/"
        },
        "id": "TqKYIar22pLU",
        "outputId": "a106b96c-bf21-42b4-8c28-61e40009ba96"
      },
      "source": [
        "print('\\n# Evaluate on test data')\n",
        "results_test = model.evaluate_generator(test_generator, 3509 // BS)\n",
        "print('test loss, test acc:', results_test)"
      ],
      "execution_count": 14,
      "outputs": [
        {
          "output_type": "stream",
          "text": [
            "\n",
            "# Evaluate on test data\n",
            "test loss, test acc: [0.9220175743103027, 0.6582754850387573]\n"
          ],
          "name": "stdout"
        }
      ]
    },
    {
      "cell_type": "code",
      "metadata": {
        "colab": {
          "base_uri": "https://localhost:8080/",
          "height": 590
        },
        "id": "l2EpSg202pQI",
        "outputId": "37fbdf59-7c6d-49d5-cdb5-8a34cb310ed8"
      },
      "source": [
        "# list all data in history\n",
        "print(history.history.keys())\n",
        "# summarize history for accuracy\n",
        "plt.plot(history.history['accuracy'])\n",
        "plt.plot(history.history['val_accuracy'])\n",
        "plt.title('model accuracy')\n",
        "plt.ylabel('accuracy')\n",
        "plt.xlabel('epoch')\n",
        "plt.legend(['train', 'dev'], loc='upper left')\n",
        "plt.show()\n",
        "# summarize history for loss\n",
        "plt.plot(history.history['loss'])\n",
        "plt.plot(history.history['val_loss'])\n",
        "plt.title('model loss')\n",
        "plt.ylabel('loss')\n",
        "plt.xlabel('epoch')\n",
        "plt.legend(['train', 'dev'], loc='upper left')\n",
        "plt.show()"
      ],
      "execution_count": 15,
      "outputs": [
        {
          "output_type": "stream",
          "text": [
            "dict_keys(['val_loss', 'val_accuracy', 'loss', 'accuracy', 'lr'])\n"
          ],
          "name": "stdout"
        },
        {
          "output_type": "display_data",
          "data": {
            "image/png": "[encoded data removed]",
            "text/plain": [
              "<Figure size 432x288 with 1 Axes>"
            ]
          },
          "metadata": {
            "tags": [],
            "needs_background": "light"
          }
        },
        {
          "output_type": "display_data",
          "data": {
            "image/png": "[encoded data removed]",
            "text/plain": [
              "<Figure size 432x288 with 1 Axes>"
            ]
          },
          "metadata": {
            "tags": [],
            "needs_background": "light"
          }
        }
      ]
    },
    {
      "cell_type": "code",
      "metadata": {
        "id": "9kebQ0YJ2wV5"
      },
      "source": [
        "epoch_str = '-EPOCHS_' + str(EPOCHS)\n",
        "dropout_str = '-DROPOUT_' + str(DROPOUT_RATE)\n",
        "test_acc = '-test_acc_%.3f' % results_test[1]\n",
        "model.save('/content/drive/My Drive/Colab Notebooks/models/' + 'SOA' + epoch_str + dropout_str + test_acc + '.h5')"
      ],
      "execution_count": 16,
      "outputs": []
    },
    {
      "cell_type": "code",
      "metadata": {
        "colab": {
          "base_uri": "https://localhost:8080/",
          "height": 399
        },
        "id": "FrnLzNJl20D8",
        "outputId": "1003cd6e-0ac4-4c11-b835-576d4a8e94f1"
      },
      "source": [
        "emotions = {0:'Angry', 1:'Disgust', 2:'Fear', 3:'Happy', 4:'Sad', 5:'Surprise', 6:'Neutral'}\n",
        "\n",
        "y_pred = model.predict_generator(dev_generator).argmax(axis=1)\n",
        "y_true = dev_generator.classes\n",
        "\n",
        "cmat_df_test=pd.DataFrame(\n",
        "  confusion_matrix(y_true, y_pred, normalize='true').round(2),\n",
        "  index=emotions.values(), \n",
        "  columns=emotions.values()\n",
        "  )\n",
        "\n",
        "plt.figure(figsize=(5,5))\n",
        "heatmap(cmat_df_test,annot=True,cmap=plt.cm.Blues)\n",
        "plt.tight_layout()\n",
        "plt.title('Confusion Matrix on Private Test Set')\n",
        "plt.ylabel('True label')\n",
        "plt.xlabel('Predicted label')\n",
        "plt.show()"
      ],
      "execution_count": 17,
      "outputs": [
        {
          "output_type": "display_data",
          "data": {
            "image/png": "[encoded data removed]",
            "text/plain": [
              "<Figure size 360x360 with 2 Axes>"
            ]
          },
          "metadata": {
            "tags": [],
            "needs_background": "light"
          }
        }
      ]
    },
    {
      "cell_type": "code",
      "metadata": {
        "id": "x7PtvADV27IU"
      },
      "source": [
        "from sklearn.metrics import accuracy_score\n",
        "# configure image data augmentation\n",
        "datagen = ImageDataGenerator(horizontal_flip=True)\n",
        "\n",
        "# make a prediction using test-time augmentation\n",
        "def tta_prediction(datagen, model, image, n_examples):\n",
        "\t# convert image into dataset\n",
        "\tsamples = np.expand_dims(image, 0)\n",
        "\t# prepare iterator\n",
        "\tit = datagen.flow(samples, batch_size=n_examples)\n",
        "\t# make predictions for each augmented image\n",
        "\tyhats = model.predict_generator(it, steps=n_examples, verbose=0)\n",
        "\t# sum across predictions\n",
        "\tsummed = np.sum(yhats, axis=0)\n",
        "\t# argmax across classes\n",
        "\treturn np.argmax(summed)\n",
        " \n",
        " # evaluate a model on a dataset using test-time augmentation\n",
        "def tta_evaluate_model(model, testX, testY):\n",
        "\t# configure image data augmentation\n",
        "\tdatagen = ImageDataGenerator(horizontal_flip=True)\n",
        "\t# define the number of augmented images to generate per test set image\n",
        "\tn_examples_per_image = 7\n",
        "\tyhats = list()\n",
        "\tfor i in range(len(testX)):\n",
        "\t\t# make augmented prediction\n",
        "\t\tyhat = tta_prediction(datagen, model, testX[i], n_examples_per_image)\n",
        "\t\t# store for evaluation\n",
        "\t\tyhats.append(yhat)\n",
        "\t# calculate accuracy\n",
        "\ttestY_labels = np.argmax(testY, axis=1)\n",
        "\tacc = accuracy_score(testY_labels, yhats)\n",
        "\treturn acc"
      ],
      "execution_count": 18,
      "outputs": []
    },
    {
      "cell_type": "code",
      "metadata": {
        "colab": {
          "base_uri": "https://localhost:8080/"
        },
        "id": "aPcLoE3X27Pc",
        "outputId": "97d83a5e-f403-4292-905e-bede55717a0a"
      },
      "source": [
        "print('\\n# Evaluate on test data')\n",
        "#TTA_results_test = tta_evaluate_model(model, X_test, Y_test)\n",
        "print('test loss, test acc:', results_test)\n",
        "# print('TTA test acc:', TTA_results_test)"
      ],
      "execution_count": 19,
      "outputs": [
        {
          "output_type": "stream",
          "text": [
            "\n",
            "# Evaluate on test data\n",
            "test loss, test acc: [0.9220175743103027, 0.6582754850387573]\n"
          ],
          "name": "stdout"
        }
      ]
    }
  ]
}