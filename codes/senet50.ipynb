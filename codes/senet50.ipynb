{
  "nbformat": 4,
  "nbformat_minor": 0,
  "metadata": {
    "colab": {
      "name": "senet50.ipynb",
      "provenance": [],
      "collapsed_sections": []
    },
    "kernelspec": {
      "name": "python3",
      "display_name": "Python 3"
    },
    "language_info": {
      "name": "python"
    },
    "accelerator": "GPU"
  },
  "cells": [
    {
      "cell_type": "code",
      "metadata": {
        "colab": {
          "base_uri": "https://localhost:8080/"
        },
        "id": "FNiQqVl7kCBn",
        "outputId": "829c63cc-f0dc-4b62-fddf-b54af809f382"
      },
      "source": [
        "%tensorflow_version 1.x\n",
        "!pip install keras-vggface\n",
        "!pip install scikit-image\n",
        "!pip install pydot\n",
        "!pip install keras_applications"
      ],
      "execution_count": 1,
      "outputs": [
        {
          "output_type": "stream",
          "text": [
            "TensorFlow 1.x selected.\n",
            "Collecting keras-vggface\n",
            "  Downloading https://files.pythonhosted.org/packages/2f/7d/5f0319ebdc09ac1a2272364fa9583f5067b6f8aff93fbbf8835d81cbaad7/keras_vggface-0.6-py3-none-any.whl\n",
            "Requirement already satisfied: scipy>=0.14 in /usr/local/lib/python3.7/dist-packages (from keras-vggface) (1.4.1)\n",
            "Requirement already satisfied: pillow in /usr/local/lib/python3.7/dist-packages (from keras-vggface) (7.1.2)\n",
            "Requirement already satisfied: h5py in /usr/local/lib/python3.7/dist-packages (from keras-vggface) (2.10.0)\n",
            "Requirement already satisfied: numpy>=1.9.1 in /usr/local/lib/python3.7/dist-packages (from keras-vggface) (1.19.5)\n",
            "Requirement already satisfied: six>=1.9.0 in /usr/local/lib/python3.7/dist-packages (from keras-vggface) (1.15.0)\n",
            "Requirement already satisfied: pyyaml in /usr/local/lib/python3.7/dist-packages (from keras-vggface) (3.13)\n",
            "Requirement already satisfied: keras in /tensorflow-1.15.2/python3.7 (from keras-vggface) (2.3.1)\n",
            "Requirement already satisfied: keras-applications>=1.0.6 in /tensorflow-1.15.2/python3.7 (from keras->keras-vggface) (1.0.8)\n",
            "Requirement already satisfied: keras-preprocessing>=1.0.5 in /usr/local/lib/python3.7/dist-packages (from keras->keras-vggface) (1.1.2)\n",
            "Installing collected packages: keras-vggface\n",
            "Successfully installed keras-vggface-0.6\n",
            "Requirement already satisfied: scikit-image in /usr/local/lib/python3.7/dist-packages (0.16.2)\n",
            "Requirement already satisfied: matplotlib!=3.0.0,>=2.0.0 in /usr/local/lib/python3.7/dist-packages (from scikit-image) (3.2.2)\n",
            "Requirement already satisfied: pillow>=4.3.0 in /usr/local/lib/python3.7/dist-packages (from scikit-image) (7.1.2)\n",
            "Requirement already satisfied: imageio>=2.3.0 in /usr/local/lib/python3.7/dist-packages (from scikit-image) (2.4.1)\n",
            "Requirement already satisfied: PyWavelets>=0.4.0 in /usr/local/lib/python3.7/dist-packages (from scikit-image) (1.1.1)\n",
            "Requirement already satisfied: networkx>=2.0 in /usr/local/lib/python3.7/dist-packages (from scikit-image) (2.5.1)\n",
            "Requirement already satisfied: scipy>=0.19.0 in /usr/local/lib/python3.7/dist-packages (from scikit-image) (1.4.1)\n",
            "Requirement already satisfied: python-dateutil>=2.1 in /usr/local/lib/python3.7/dist-packages (from matplotlib!=3.0.0,>=2.0.0->scikit-image) (2.8.1)\n",
            "Requirement already satisfied: kiwisolver>=1.0.1 in /usr/local/lib/python3.7/dist-packages (from matplotlib!=3.0.0,>=2.0.0->scikit-image) (1.3.1)\n",
            "Requirement already satisfied: cycler>=0.10 in /usr/local/lib/python3.7/dist-packages (from matplotlib!=3.0.0,>=2.0.0->scikit-image) (0.10.0)\n",
            "Requirement already satisfied: numpy>=1.11 in /usr/local/lib/python3.7/dist-packages (from matplotlib!=3.0.0,>=2.0.0->scikit-image) (1.19.5)\n",
            "Requirement already satisfied: pyparsing!=2.0.4,!=2.1.2,!=2.1.6,>=2.0.1 in /usr/local/lib/python3.7/dist-packages (from matplotlib!=3.0.0,>=2.0.0->scikit-image) (2.4.7)\n",
            "Requirement already satisfied: decorator<5,>=4.3 in /usr/local/lib/python3.7/dist-packages (from networkx>=2.0->scikit-image) (4.4.2)\n",
            "Requirement already satisfied: six>=1.5 in /usr/local/lib/python3.7/dist-packages (from python-dateutil>=2.1->matplotlib!=3.0.0,>=2.0.0->scikit-image) (1.15.0)\n",
            "Requirement already satisfied: pydot in /usr/local/lib/python3.7/dist-packages (1.3.0)\n",
            "Requirement already satisfied: pyparsing>=2.1.4 in /usr/local/lib/python3.7/dist-packages (from pydot) (2.4.7)\n",
            "Requirement already satisfied: keras_applications in /tensorflow-1.15.2/python3.7 (1.0.8)\n",
            "Requirement already satisfied: h5py in /usr/local/lib/python3.7/dist-packages (from keras_applications) (2.10.0)\n",
            "Requirement already satisfied: numpy>=1.9.1 in /usr/local/lib/python3.7/dist-packages (from keras_applications) (1.19.5)\n",
            "Requirement already satisfied: six in /usr/local/lib/python3.7/dist-packages (from h5py->keras_applications) (1.15.0)\n"
          ],
          "name": "stdout"
        }
      ]
    },
    {
      "cell_type": "code",
      "metadata": {
        "colab": {
          "base_uri": "https://localhost:8080/"
        },
        "id": "acIaMq7hkQ-3",
        "outputId": "d891a5e1-952b-46d2-e73a-e76160a12cd5"
      },
      "source": [
        "from google.colab import drive\n",
        "drive.mount('/content/drive')"
      ],
      "execution_count": 2,
      "outputs": [
        {
          "output_type": "stream",
          "text": [
            "Mounted at /content/drive\n"
          ],
          "name": "stdout"
        }
      ]
    },
    {
      "cell_type": "code",
      "metadata": {
        "colab": {
          "base_uri": "https://localhost:8080/"
        },
        "id": "853eZc8SkRAX",
        "outputId": "b9415e6e-01d9-482d-e05e-e1401867d1e9"
      },
      "source": [
        "import matplotlib.pyplot as plt\n",
        "import pandas as pd\n",
        "import numpy as np\n",
        "\n",
        "import tensorflow as tf\n",
        "from tensorflow.keras.layers import *\n",
        "from tensorflow.python.lib.io import file_io\n",
        "\n",
        "%matplotlib inline\n",
        "\n",
        "import keras\n",
        "from keras import backend as K\n",
        "from keras.callbacks import ModelCheckpoint, EarlyStopping\n",
        "from keras.models import load_model\n",
        "from keras.preprocessing.image import ImageDataGenerator\n",
        "from keras_vggface.vggface import VGGFace\n",
        "from keras.utils import plot_model\n",
        "from sklearn.metrics import *\n",
        "from keras.engine import Model\n",
        "from keras.layers import Input, Flatten, Dense, Activation, Conv2D, MaxPool2D, BatchNormalization, Dropout, MaxPooling2D\n",
        "import skimage\n",
        "from skimage.transform import rescale, resize\n",
        "\n",
        "import pydot"
      ],
      "execution_count": 3,
      "outputs": [
        {
          "output_type": "stream",
          "text": [
            "Using TensorFlow backend.\n"
          ],
          "name": "stderr"
        }
      ]
    },
    {
      "cell_type": "code",
      "metadata": {
        "id": "YkK33hZ8kRD_"
      },
      "source": [
        "EPOCHS = 30\n",
        "BS = 40\n",
        "DROPOUT_RATE = 0.5\n",
        "FROZEN_LAYER_NUM = 201\n",
        "\n",
        "ADAM_LEARNING_RATE = 0.001\n",
        "SGD_LEARNING_RATE = 0.01\n",
        "SGD_DECAY = 0.0001\n",
        "\n",
        "Resize_pixelsize = 197"
      ],
      "execution_count": 13,
      "outputs": []
    },
    {
      "cell_type": "code",
      "metadata": {
        "colab": {
          "base_uri": "https://localhost:8080/"
        },
        "id": "Wiydr4e2kRFs",
        "outputId": "1aa4bf18-c6a0-4435-d173-ae471f2cc0c8"
      },
      "source": [
        "vgg_notop = VGGFace(model='senet50', include_top=False, input_shape=(Resize_pixelsize, Resize_pixelsize, 3), pooling='avg')\n",
        "last_layer = vgg_notop.get_layer('avg_pool').output\n",
        "x = Flatten(name='flatten')(last_layer)\n",
        "x = Dropout(DROPOUT_RATE)(x)\n",
        "x = Dense(4096, activation='relu', name='fc6')(x)\n",
        "x = Dropout(DROPOUT_RATE)(x)\n",
        "x = Dense(1024, activation='relu', name='fc7')(x)\n",
        "x = Dropout(DROPOUT_RATE)(x)\n",
        "# l=0\n",
        "# for layer in vgg_notop.layers:\n",
        "#     print(layer,\"[\"+str(l)+\"]\")\n",
        "#     l=l+1\n",
        "\n",
        "batch_norm_indices = [2, 6, 9, 12, 21, 25, 28, 31, 42, 45, 48, 59, 62, 65, 74, 78, 81, 84, 95, 98, 101, 112, 115, 118, 129, 132, 135, 144, 148, 151, 154, 165, 168, 171, 182, 185, 188, 199, 202, 205, 216, 219, 222, 233, 236, 239, 248, 252, 255, 258, 269, 272, 275]    \n",
        "for i in range(FROZEN_LAYER_NUM):\n",
        "    if i not in batch_norm_indices:\n",
        "        vgg_notop.layers[i].trainable = False\n",
        "# print('vgg layer 2 is trainable: ' + str(vgg_notop.layers[2].trainable))\n",
        "# print('vgg layer 3 is trainable: ' + str(vgg_notop.layers[3].trainable))\n",
        "\n",
        "out = Dense(7, activation='softmax', name='classifier')(x)\n",
        "\n",
        "model = Model(vgg_notop.input, out)\n",
        "\n",
        "\n",
        "optim = keras.optimizers.Adam(lr=ADAM_LEARNING_RATE, beta_1=0.9, beta_2=0.999, epsilon=1e-08, decay=0.0)\n",
        "#optim = keras.optimizers.Adam(lr=0.0005, beta_1=0.9, beta_2=0.999, epsilon=1e-08, decay=0.0)\n",
        "sgd = keras.optimizers.SGD(lr=SGD_LEARNING_RATE, momentum=0.9, decay=SGD_DECAY, nesterov=True)\n",
        "rlrop = keras.callbacks.ReduceLROnPlateau(monitor='val_accuracy',mode='max',factor=0.5, patience=10, min_lr=0.00001, verbose=1)\n",
        "\n",
        "model.compile(optimizer=sgd, loss='categorical_crossentropy', metrics=['accuracy'])\n",
        "# plot_model(model, to_file='model2.png', show_shapes=True)"
      ],
      "execution_count": 5,
      "outputs": [
        {
          "output_type": "stream",
          "text": [
            "WARNING:tensorflow:From /tensorflow-1.15.2/python3.7/tensorflow_core/python/ops/resource_variable_ops.py:1630: calling BaseResourceVariable.__init__ (from tensorflow.python.ops.resource_variable_ops) with constraint is deprecated and will be removed in a future version.\n",
            "Instructions for updating:\n",
            "If using Keras pass *_constraint arguments to layers.\n",
            "WARNING:tensorflow:From /tensorflow-1.15.2/python3.7/keras/backend/tensorflow_backend.py:4070: The name tf.nn.max_pool is deprecated. Please use tf.nn.max_pool2d instead.\n",
            "\n",
            "WARNING:tensorflow:From /tensorflow-1.15.2/python3.7/keras/backend/tensorflow_backend.py:4074: The name tf.nn.avg_pool is deprecated. Please use tf.nn.avg_pool2d instead.\n",
            "\n",
            "Downloading data from https://github.com/rcmalli/keras-vggface/releases/download/v2.0/rcmalli_vggface_tf_notop_senet50.h5\n",
            "104947712/104944616 [==============================] - 1s 0us/step\n"
          ],
          "name": "stdout"
        }
      ]
    },
    {
      "cell_type": "code",
      "metadata": {
        "id": "-lCgeZwzkRI2"
      },
      "source": [
        "! rm -rf train; mkdir train\n",
        "! unzip -q '/content/drive/My Drive/Colab Notebooks/dataset/train.zip' -d train\n",
        "! rm -rf dev; mkdir dev\n",
        "! unzip -q '/content/drive/My Drive/Colab Notebooks/dataset/test-public.zip' -d dev\n",
        "! rm -rf test; mkdir test\n",
        "! unzip -q '/content/drive/My Drive/Colab Notebooks/dataset/test-private.zip' -d test"
      ],
      "execution_count": 6,
      "outputs": []
    },
    {
      "cell_type": "code",
      "metadata": {
        "id": "jirq8VBRkRKg"
      },
      "source": [
        "from tensorflow.keras.preprocessing.image import ImageDataGenerator\n",
        "\n",
        "def get_datagen(dataset, aug=False):\n",
        "    if aug:\n",
        "        datagen = ImageDataGenerator(\n",
        "                            rescale=1./255,\n",
        "                            featurewise_center=False,\n",
        "                            featurewise_std_normalization=False,\n",
        "                            rotation_range=10,\n",
        "                            width_shift_range=0.1,\n",
        "                            height_shift_range=0.1,\n",
        "                            zoom_range=0.1,\n",
        "                            horizontal_flip=True)\n",
        "    else:\n",
        "        datagen = ImageDataGenerator(rescale=1./255)\n",
        "\n",
        "    return datagen.flow_from_directory(\n",
        "            dataset,\n",
        "            target_size=(197, 197),\n",
        "            color_mode='rgb',\n",
        "            shuffle = True,\n",
        "            class_mode='categorical',\n",
        "            batch_size=BS)"
      ],
      "execution_count": 7,
      "outputs": []
    },
    {
      "cell_type": "code",
      "metadata": {
        "colab": {
          "base_uri": "https://localhost:8080/"
        },
        "id": "HgeIx68gkROG",
        "outputId": "e1b1e749-b1c9-4860-9ea0-d94c4bb18e50"
      },
      "source": [
        "%%bash\n",
        "root='/content/train/'\n",
        "IFS=$(echo -en \"\\n\\b\")\n",
        "(for dir in $(ls -1 \"$root\")\n",
        "    do printf \"$dir: \" && ls -i \"$root$dir\" | wc -l\n",
        " done)"
      ],
      "execution_count": 8,
      "outputs": [
        {
          "output_type": "stream",
          "text": [
            "0 angry: 3995\n",
            "1 disgust: 436\n",
            "2 fear: 4097\n",
            "3 happy: 7215\n",
            "4 sad: 4830\n",
            "5 surprise: 3171\n",
            "6 neutral: 4965\n"
          ],
          "name": "stdout"
        }
      ]
    },
    {
      "cell_type": "code",
      "metadata": {
        "colab": {
          "base_uri": "https://localhost:8080/"
        },
        "id": "NKyl-WpjkRP7",
        "outputId": "dcd618c4-cfc3-4a29-e6b3-1683629da913"
      },
      "source": [
        "train_generator  = get_datagen('/content/train', True)\n",
        "dev_generator    = get_datagen('/content/dev')\n",
        "test_generator  = get_datagen('/content/test')"
      ],
      "execution_count": 9,
      "outputs": [
        {
          "output_type": "stream",
          "text": [
            "Found 28709 images belonging to 7 classes.\n",
            "Found 3589 images belonging to 7 classes.\n",
            "Found 3589 images belonging to 7 classes.\n"
          ],
          "name": "stdout"
        }
      ]
    },
    {
      "cell_type": "code",
      "metadata": {
        "colab": {
          "base_uri": "https://localhost:8080/"
        },
        "id": "tGO9gFFQk9bq",
        "outputId": "5cd106eb-23b3-4291-c8f4-da02fa680a17"
      },
      "source": [
        "history = model.fit_generator(\n",
        "    generator = train_generator,\n",
        "    validation_data=dev_generator, \n",
        "    #steps_per_epoch=28709// BS,\n",
        "    #validation_steps=3509 // BS,\n",
        "    shuffle=True,\n",
        "    epochs=30,\n",
        "    callbacks=[rlrop],\n",
        "    use_multiprocessing=True,\n",
        ")"
      ],
      "execution_count": 14,
      "outputs": [
        {
          "output_type": "stream",
          "text": [
            "Epoch 1/30\n",
            "575/575 [==============================] - 379s 659ms/step - loss: 1.9254 - accuracy: 0.2290 - val_loss: 1.8882 - val_accuracy: 0.2494\n",
            "Epoch 2/30\n",
            "575/575 [==============================] - 369s 642ms/step - loss: 1.4897 - accuracy: 0.3968 - val_loss: 1.5549 - val_accuracy: 0.4093\n",
            "Epoch 3/30\n",
            "575/575 [==============================] - 368s 641ms/step - loss: 1.2324 - accuracy: 0.5211 - val_loss: 1.1569 - val_accuracy: 0.5673\n",
            "Epoch 4/30\n",
            "575/575 [==============================] - 371s 645ms/step - loss: 1.1320 - accuracy: 0.5748 - val_loss: 0.8930 - val_accuracy: 0.6085\n",
            "Epoch 5/30\n",
            "575/575 [==============================] - 373s 649ms/step - loss: 1.0513 - accuracy: 0.6147 - val_loss: 0.9614 - val_accuracy: 0.6080\n",
            "Epoch 6/30\n",
            "575/575 [==============================] - 373s 649ms/step - loss: 0.9986 - accuracy: 0.6389 - val_loss: 1.0660 - val_accuracy: 0.6342\n",
            "Epoch 7/30\n",
            "575/575 [==============================] - 376s 653ms/step - loss: 0.9591 - accuracy: 0.6521 - val_loss: 0.8366 - val_accuracy: 0.6278\n",
            "Epoch 8/30\n",
            "575/575 [==============================] - 373s 649ms/step - loss: 0.9312 - accuracy: 0.6663 - val_loss: 1.1967 - val_accuracy: 0.6517\n",
            "Epoch 9/30\n",
            "575/575 [==============================] - 373s 649ms/step - loss: 0.8938 - accuracy: 0.6790 - val_loss: 0.9212 - val_accuracy: 0.6489\n",
            "Epoch 10/30\n",
            "575/575 [==============================] - 377s 655ms/step - loss: 0.8668 - accuracy: 0.6915 - val_loss: 0.9355 - val_accuracy: 0.6581\n",
            "Epoch 11/30\n",
            "575/575 [==============================] - 374s 650ms/step - loss: 0.8410 - accuracy: 0.6963 - val_loss: 0.8735 - val_accuracy: 0.6486\n",
            "Epoch 12/30\n",
            "575/575 [==============================] - 372s 648ms/step - loss: 0.8250 - accuracy: 0.7047 - val_loss: 1.1000 - val_accuracy: 0.6698\n",
            "Epoch 13/30\n",
            "575/575 [==============================] - 376s 654ms/step - loss: 0.7975 - accuracy: 0.7140 - val_loss: 1.1518 - val_accuracy: 0.6665\n",
            "Epoch 14/30\n",
            "575/575 [==============================] - 370s 644ms/step - loss: 0.7744 - accuracy: 0.7229 - val_loss: 1.1074 - val_accuracy: 0.6732\n",
            "Epoch 15/30\n",
            "575/575 [==============================] - 375s 652ms/step - loss: 0.7521 - accuracy: 0.7300 - val_loss: 0.8400 - val_accuracy: 0.6707\n",
            "Epoch 16/30\n",
            "575/575 [==============================] - 376s 653ms/step - loss: 0.7302 - accuracy: 0.7388 - val_loss: 0.8789 - val_accuracy: 0.6835\n",
            "Epoch 17/30\n",
            "575/575 [==============================] - 376s 653ms/step - loss: 0.7061 - accuracy: 0.7482 - val_loss: 0.8253 - val_accuracy: 0.6617\n",
            "Epoch 18/30\n",
            "575/575 [==============================] - 378s 657ms/step - loss: 0.6897 - accuracy: 0.7556 - val_loss: 0.8476 - val_accuracy: 0.6757\n",
            "Epoch 19/30\n",
            "575/575 [==============================] - 380s 661ms/step - loss: 0.6696 - accuracy: 0.7633 - val_loss: 1.0532 - val_accuracy: 0.6785\n",
            "Epoch 20/30\n",
            "575/575 [==============================] - 380s 661ms/step - loss: 0.6423 - accuracy: 0.7713 - val_loss: 0.9312 - val_accuracy: 0.6617\n",
            "Epoch 21/30\n",
            "575/575 [==============================] - 375s 653ms/step - loss: 0.6309 - accuracy: 0.7768 - val_loss: 0.5673 - val_accuracy: 0.6846\n",
            "Epoch 22/30\n",
            "575/575 [==============================] - 375s 652ms/step - loss: 0.6045 - accuracy: 0.7884 - val_loss: 0.9522 - val_accuracy: 0.6854\n",
            "Epoch 23/30\n",
            "575/575 [==============================] - 376s 654ms/step - loss: 0.5979 - accuracy: 0.7881 - val_loss: 0.9361 - val_accuracy: 0.6737\n",
            "Epoch 24/30\n",
            "575/575 [==============================] - 379s 660ms/step - loss: 0.5812 - accuracy: 0.7944 - val_loss: 1.2312 - val_accuracy: 0.6726\n",
            "Epoch 25/30\n",
            "575/575 [==============================] - 373s 649ms/step - loss: 0.5574 - accuracy: 0.8034 - val_loss: 1.3576 - val_accuracy: 0.6737\n",
            "Epoch 26/30\n",
            "575/575 [==============================] - 375s 652ms/step - loss: 0.5444 - accuracy: 0.8095 - val_loss: 1.0034 - val_accuracy: 0.6656\n",
            "Epoch 27/30\n",
            "575/575 [==============================] - 372s 648ms/step - loss: 0.5095 - accuracy: 0.8188 - val_loss: 0.8141 - val_accuracy: 0.6943\n",
            "Epoch 28/30\n",
            "575/575 [==============================] - 373s 648ms/step - loss: 0.5036 - accuracy: 0.8200 - val_loss: 0.8741 - val_accuracy: 0.6843\n",
            "Epoch 29/30\n",
            "575/575 [==============================] - 373s 649ms/step - loss: 0.4872 - accuracy: 0.8269 - val_loss: 1.1713 - val_accuracy: 0.6843\n",
            "Epoch 30/30\n",
            "575/575 [==============================] - 375s 652ms/step - loss: 0.4737 - accuracy: 0.8326 - val_loss: 1.3914 - val_accuracy: 0.6815\n"
          ],
          "name": "stdout"
        }
      ]
    },
    {
      "cell_type": "code",
      "metadata": {
        "colab": {
          "base_uri": "https://localhost:8080/"
        },
        "id": "ih_E_8gdk9dP",
        "outputId": "05fae15f-e848-42ba-cc54-cfde3d5b207e"
      },
      "source": [
        "print('\\n# Evaluate on test data')\n",
        "results_test = model.evaluate_generator(test_generator, 3509 // BS)\n",
        "print('test loss, test acc:', results_test)"
      ],
      "execution_count": 15,
      "outputs": [
        {
          "output_type": "stream",
          "text": [
            "\n",
            "# Evaluate on test data\n",
            "test loss, test acc: [0.6616274118423462, 0.7015441060066223]\n"
          ],
          "name": "stdout"
        }
      ]
    },
    {
      "cell_type": "code",
      "metadata": {
        "colab": {
          "base_uri": "https://localhost:8080/",
          "height": 590
        },
        "id": "iQNJaWXRk9hZ",
        "outputId": "ab3bf384-28af-4b67-8c5e-daf441d7ccee"
      },
      "source": [
        "# list all data in history\n",
        "print(history.history.keys())\n",
        "# summarize history for accuracy\n",
        "plt.plot(history.history['accuracy'])\n",
        "plt.plot(history.history['val_accuracy'])\n",
        "plt.title('model accuracy')\n",
        "plt.ylabel('accuracy')\n",
        "plt.xlabel('epoch')\n",
        "plt.legend(['train', 'dev'], loc='upper left')\n",
        "plt.show()\n",
        "# summarize history for loss\n",
        "plt.plot(history.history['loss'])\n",
        "plt.plot(history.history['val_loss'])\n",
        "plt.title('model loss')\n",
        "plt.ylabel('loss')\n",
        "plt.xlabel('epoch')\n",
        "plt.legend(['train', 'dev'], loc='upper left')\n",
        "plt.show()"
      ],
      "execution_count": 17,
      "outputs": [
        {
          "output_type": "stream",
          "text": [
            "dict_keys(['val_loss', 'val_accuracy', 'loss', 'accuracy', 'lr'])\n"
          ],
          "name": "stdout"
        },
        {
          "output_type": "display_data",
          "data": {
            "image/png": "[encoded data removed]",
            "text/plain": [
              "<Figure size 432x288 with 1 Axes>"
            ]
          },
          "metadata": {
            "tags": [],
            "needs_background": "light"
          }
        },
        {
          "output_type": "display_data",
          "data": {
            "image/png": "[encoded data removed]",
            "text/plain": [
              "<Figure size 432x288 with 1 Axes>"
            ]
          },
          "metadata": {
            "tags": [],
            "needs_background": "light"
          }
        }
      ]
    },
    {
      "cell_type": "code",
      "metadata": {
        "id": "7uLYg77nmAXB"
      },
      "source": [
        "epoch_str = '-EPOCHS_' + str(EPOCHS)\n",
        "test_acc = 'test_acc_%.3f' % results_test[1]\n",
        "model.save('/content/drive/My Drive/Colab Notebooks/models/' + 'SENET50' + epoch_str + test_acc + '.h5')"
      ],
      "execution_count": 18,
      "outputs": []
    },
    {
      "cell_type": "code",
      "metadata": {
        "id": "NtE_kM7KmAeJ"
      },
      "source": [
        ""
      ],
      "execution_count": null,
      "outputs": []
    }
  ]
}