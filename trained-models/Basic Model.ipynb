{
 "cells": [
  {
   "cell_type": "code",
   "execution_count": 1,
   "metadata": {},
   "outputs": [],
   "source": [
    "from keras.preprocessing.image import img_to_array\n",
    "from keras.models import load_model\n",
    "import imutils\n",
    "import cv2\n",
    "import numpy as np\n",
    "import os"
   ]
  },
  {
   "cell_type": "code",
   "execution_count": 2,
   "metadata": {},
   "outputs": [],
   "source": [
    "emotion_model_path =os.curdir + \"/\" + 'models/_mini_XCEPTION.133-0.66.hdf5'"
   ]
  },
  {
   "cell_type": "code",
   "execution_count": 3,
   "metadata": {},
   "outputs": [],
   "source": [
    "emotion_classifier = load_model(emotion_model_path, compile=False)\n",
    "EMOTIONS = [\"angry\",\"disgust\",\"scared\", \"happy\", \"sad\", \"surprised\",\"neutral\"]"
   ]
  },
  {
   "cell_type": "code",
   "execution_count": 4,
   "metadata": {},
   "outputs": [
    {
     "name": "stdout",
     "output_type": "stream",
     "text": [
      "Enter the folder name:\n",
      "overall\n"
     ]
    }
   ],
   "source": [
    "print(\"Enter the folder name:\")\n",
    "x = input()"
   ]
  },
  {
   "cell_type": "code",
   "execution_count": null,
   "metadata": {},
   "outputs": [],
   "source": [
    "folder_path = os.curdir + \"/\" + x + \"/\"\n",
    "target = []\n",
    "for filename in os.listdir(folder_path):\n",
    "#     print(filename)\n",
    "    temp = filename.split('.')\n",
    "    val = temp[0].split('_')\n",
    "    target.append(int(val[1]))"
   ]
  },
  {
   "cell_type": "code",
   "execution_count": null,
   "metadata": {},
   "outputs": [],
   "source": [
    "output = []\n",
    "for filename in os.listdir(folder_path):\n",
    "    img_path = folder_path + filename\n",
    "    frame = cv2.imread(img_path,0)\n",
    "    roi = frame.astype(\"float\") / 255.0\n",
    "    roi = img_to_array(roi)\n",
    "    roi = np.expand_dims(roi, axis=0)\n",
    "    preds = emotion_classifier.predict(roi)[0]\n",
    "    emotion_probability = np.max(preds)\n",
    "#     print(preds.argmax())\n",
    "    output.append(preds.argmax())\n",
    "    "
   ]
  },
  {
   "cell_type": "code",
   "execution_count": 7,
   "metadata": {},
   "outputs": [
    {
     "data": {
      "text/plain": [
       "0.5762811045782595"
      ]
     },
     "execution_count": 7,
     "metadata": {},
     "output_type": "execute_result"
    }
   ],
   "source": [
    "from sklearn.metrics import accuracy_score\n",
    "accuracy_score(target, output)"
   ]
  },
  {
   "cell_type": "code",
   "execution_count": 8,
   "metadata": {},
   "outputs": [
    {
     "name": "stdout",
     "output_type": "stream",
     "text": [
      "              precision    recall  f1-score   support\n",
      "\n",
      "     class 0       0.54      0.43      0.48      4953\n",
      "     class 1       0.38      0.40      0.39       547\n",
      "     class 2       0.40      0.39      0.40      5121\n",
      "     class 3       0.74      0.86      0.80      8989\n",
      "     class 4       0.53      0.33      0.41      6077\n",
      "     class 5       0.66      0.71      0.69      4002\n",
      "     class 6       0.48      0.61      0.54      6198\n",
      "\n",
      "    accuracy                           0.58     35887\n",
      "   macro avg       0.53      0.53      0.53     35887\n",
      "weighted avg       0.57      0.58      0.57     35887\n",
      "\n"
     ]
    }
   ],
   "source": [
    "from sklearn.metrics import classification_report\n",
    "target_names = [\"class 0\",\"class 1\",\"class 2\", \"class 3\", \"class 4\", \"class 5\",\"class 6\"]\n",
    "print(classification_report(target, output, target_names=target_names))"
   ]
  },
  {
   "cell_type": "code",
   "execution_count": null,
   "metadata": {},
   "outputs": [],
   "source": []
  }
 ],
 "metadata": {
  "kernelspec": {
   "display_name": "Python 3",
   "language": "python",
   "name": "python3"
  },
  "language_info": {
   "codemirror_mode": {
    "name": "ipython",
    "version": 3
   },
   "file_extension": ".py",
   "mimetype": "text/x-python",
   "name": "python",
   "nbconvert_exporter": "python",
   "pygments_lexer": "ipython3",
   "version": "3.8.5"
  }
 },
 "nbformat": 4,
 "nbformat_minor": 4
}
